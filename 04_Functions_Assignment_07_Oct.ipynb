{
  "nbformat": 4,
  "nbformat_minor": 0,
  "metadata": {
    "colab": {
      "provenance": [],
      "authorship_tag": "ABX9TyMa06irHskq1arWP2ycM6rq",
      "include_colab_link": true
    },
    "kernelspec": {
      "name": "python3",
      "display_name": "Python 3"
    },
    "language_info": {
      "name": "python"
    }
  },
  "cells": [
    {
      "cell_type": "markdown",
      "metadata": {
        "id": "view-in-github",
        "colab_type": "text"
      },
      "source": [
        "<a href=\"https://colab.research.google.com/github/CoderVudu/04_Functions_Assignment_07_Oct_Sharmistha_Dey.ipynb/blob/main/04_Functions_Assignment_07_Oct.ipynb\" target=\"_parent\"><img src=\"https://colab.research.google.com/assets/colab-badge.svg\" alt=\"Open In Colab\"/></a>"
      ]
    },
    {
      "cell_type": "markdown",
      "source": [
        "##Theory Questions"
      ],
      "metadata": {
        "id": "iY_l0P63FPez"
      }
    },
    {
      "cell_type": "markdown",
      "source": [
        "#Q 1. What is the difference between a function and a method in Python?"
      ],
      "metadata": {
        "id": "njJMj85r6yDy"
      }
    },
    {
      "cell_type": "markdown",
      "source": [
        "A function is a block of code that is defined using the def keyword and can be called independently. It can take parameters and return values.\n",
        "A method is a function that is associated with an object, and it is called on the object (like a member function in other programming languages)."
      ],
      "metadata": {
        "id": "tfRclfbO7co3"
      }
    },
    {
      "cell_type": "code",
      "source": [
        "# Function example\n",
        "def greet(name):\n",
        "    return f\"Hello, {name}\"\n",
        "\n",
        "print(greet(\"Sharmistha\"))"
      ],
      "metadata": {
        "colab": {
          "base_uri": "https://localhost:8080/"
        },
        "id": "wTCsHpKJ7pb8",
        "outputId": "81f38680-c97d-4339-f181-a8c1d124c3f4"
      },
      "execution_count": 2,
      "outputs": [
        {
          "output_type": "stream",
          "name": "stdout",
          "text": [
            "Hello, Sharmistha\n"
          ]
        }
      ]
    },
    {
      "cell_type": "code",
      "source": [
        "# Method example\n",
        "class Person:\n",
        "    def greet(self, name):\n",
        "        return f\"Hello, {name}\"\n",
        "\n",
        "p = Person()\n",
        "print(p.greet(\"PWskills\"))"
      ],
      "metadata": {
        "colab": {
          "base_uri": "https://localhost:8080/"
        },
        "id": "YzRf6tHm8Cue",
        "outputId": "a6e30061-770f-4f3d-efd0-9bf5b39f9380"
      },
      "execution_count": 4,
      "outputs": [
        {
          "output_type": "stream",
          "name": "stdout",
          "text": [
            "Hello, PWskills\n"
          ]
        }
      ]
    },
    {
      "cell_type": "markdown",
      "source": [
        "#Q 2. Explain the concept of function arguments and parameters in Python."
      ],
      "metadata": {
        "id": "R7oFWZ0b8LEl"
      }
    },
    {
      "cell_type": "markdown",
      "source": [
        "Parameters are the variables listed in the function definition.\n",
        "Arguments are the actual values passed to the function when it is called."
      ],
      "metadata": {
        "id": "LKpl2EUC8TwD"
      }
    },
    {
      "cell_type": "code",
      "source": [
        "\n",
        "def add(a, b):  # 'a' and 'b' are parameters\n",
        "    return a + b\n",
        "\n",
        "result = add(10, 5)  # '10' and '5' are arguments\n",
        "print(result)"
      ],
      "metadata": {
        "colab": {
          "base_uri": "https://localhost:8080/"
        },
        "id": "ioakgnUG8fUT",
        "outputId": "c548abae-9b87-484f-8f25-3f377f574627"
      },
      "execution_count": 7,
      "outputs": [
        {
          "output_type": "stream",
          "name": "stdout",
          "text": [
            "15\n"
          ]
        }
      ]
    },
    {
      "cell_type": "markdown",
      "source": [
        "#Q 3. What are the different ways to define and call a function in Python?"
      ],
      "metadata": {
        "id": "tqDmQoRr8rI_"
      }
    },
    {
      "cell_type": "markdown",
      "source": [
        "Defining a function: One can define a function using the def keyword.\n"
      ],
      "metadata": {
        "id": "ZHkHDvvS8xXM"
      }
    },
    {
      "cell_type": "code",
      "source": [
        "def say_hello():\n",
        "    print(\"Hello, World!\")\n",
        "\n",
        "say_hello()"
      ],
      "metadata": {
        "colab": {
          "base_uri": "https://localhost:8080/"
        },
        "id": "rlTUtfMO86kV",
        "outputId": "98538fe1-e2e8-4b76-b6c7-d245edd16b88"
      },
      "execution_count": 8,
      "outputs": [
        {
          "output_type": "stream",
          "name": "stdout",
          "text": [
            "Hello, World!\n"
          ]
        }
      ]
    },
    {
      "cell_type": "markdown",
      "source": [
        "Lambda function: A lambda function is a small anonymous function."
      ],
      "metadata": {
        "id": "hKO35XV78_cI"
      }
    },
    {
      "cell_type": "code",
      "source": [
        "multiply = lambda x, y: x * y\n",
        "print(multiply(10, 5))"
      ],
      "metadata": {
        "colab": {
          "base_uri": "https://localhost:8080/"
        },
        "id": "IyJOBEn_9Eha",
        "outputId": "de851f48-d231-4e25-9c81-f63e821b6389"
      },
      "execution_count": 10,
      "outputs": [
        {
          "output_type": "stream",
          "name": "stdout",
          "text": [
            "50\n"
          ]
        }
      ]
    },
    {
      "cell_type": "markdown",
      "source": [
        "#Q 4. What is the purpose of the return statement in a Python function?"
      ],
      "metadata": {
        "id": "OWJziofL9M7w"
      }
    },
    {
      "cell_type": "markdown",
      "source": [
        "The return statement is used to exit the function and send back a value to the caller.\n"
      ],
      "metadata": {
        "id": "kRT0JrLI9SBi"
      }
    },
    {
      "cell_type": "code",
      "source": [
        "def square(x):\n",
        "    return x * x\n",
        "\n",
        "result = square(5)\n",
        "print(result)  # Output: 25"
      ],
      "metadata": {
        "colab": {
          "base_uri": "https://localhost:8080/"
        },
        "id": "KFAJoeWe9U2V",
        "outputId": "11b078a8-a6e9-4ddd-b9bd-14f497918a89"
      },
      "execution_count": 12,
      "outputs": [
        {
          "output_type": "stream",
          "name": "stdout",
          "text": [
            "25\n"
          ]
        }
      ]
    },
    {
      "cell_type": "markdown",
      "source": [
        "#Q 5. What are iterators in Python and how do they differ from iterables?"
      ],
      "metadata": {
        "id": "yV_0kTtH9bd1"
      }
    },
    {
      "cell_type": "markdown",
      "source": [
        "Iterable: An object is iterable if it can return an iterator (like a list, tuple, string, etc.). One can use iter() to get an iterator from an iterable.\n",
        "Iterator: An iterator is an object that keeps track of the current position and can be traversed one element at a time using next()."
      ],
      "metadata": {
        "id": "_YTcu9oX9iWy"
      }
    },
    {
      "cell_type": "code",
      "source": [
        "# Iterable\n",
        "my_list = [1, 2, 3]\n",
        "\n",
        "# Iterator\n",
        "it = iter(my_list)\n",
        "print(next(it))  # Output: 1\n",
        "print(next(it))  # Output: 2"
      ],
      "metadata": {
        "colab": {
          "base_uri": "https://localhost:8080/"
        },
        "id": "S_i8FH249nXY",
        "outputId": "8eef6ae2-861c-44ed-b306-d2d5919e0641"
      },
      "execution_count": 13,
      "outputs": [
        {
          "output_type": "stream",
          "name": "stdout",
          "text": [
            "1\n",
            "2\n"
          ]
        }
      ]
    },
    {
      "cell_type": "markdown",
      "source": [
        "#Q 6. Explain the concept of generators in Python and how they are defined."
      ],
      "metadata": {
        "id": "8K64RslACLtr"
      }
    },
    {
      "cell_type": "markdown",
      "source": [
        "A generator is a special type of iterator that is defined using the yield keyword. Instead of returning a value and terminating, it pauses and yields values one at a time.\n"
      ],
      "metadata": {
        "id": "o8xmKR3hCR-X"
      }
    },
    {
      "cell_type": "code",
      "source": [
        "def count_up_to(max):\n",
        "    count = 1\n",
        "    while count <= max:\n",
        "        yield count\n",
        "        count += 1\n",
        "\n",
        "gen = count_up_to(5)\n",
        "for num in gen:\n",
        "    print(num)"
      ],
      "metadata": {
        "colab": {
          "base_uri": "https://localhost:8080/"
        },
        "id": "wm-Gh9PfCV6y",
        "outputId": "e83889b3-7d30-4d17-a07b-3e1449212678"
      },
      "execution_count": 15,
      "outputs": [
        {
          "output_type": "stream",
          "name": "stdout",
          "text": [
            "1\n",
            "2\n",
            "3\n",
            "4\n",
            "5\n"
          ]
        }
      ]
    },
    {
      "cell_type": "markdown",
      "source": [
        "#Q 7. What are the advantages of using generators over regular functions?"
      ],
      "metadata": {
        "id": "sGtBEUwGCcki"
      }
    },
    {
      "cell_type": "markdown",
      "source": [
        "Generators are memory-efficient because they generate values lazily, one at a time, instead of computing and returning all results at once."
      ],
      "metadata": {
        "id": "7oiuuDGbChZj"
      }
    },
    {
      "cell_type": "code",
      "source": [
        "# Generator\n",
        "def count_up_to(max):\n",
        "    count = 1\n",
        "    while count <= max:\n",
        "        yield count\n",
        "        count += 1\n",
        "\n",
        "gen = count_up_to(5)\n",
        "for num in gen:\n",
        "    print(num)"
      ],
      "metadata": {
        "colab": {
          "base_uri": "https://localhost:8080/"
        },
        "id": "tSb0j60CCj_W",
        "outputId": "7515b4ec-007b-475c-b84d-1ec6500676a3"
      },
      "execution_count": 17,
      "outputs": [
        {
          "output_type": "stream",
          "name": "stdout",
          "text": [
            "1\n",
            "2\n",
            "3\n",
            "4\n",
            "5\n"
          ]
        }
      ]
    },
    {
      "cell_type": "markdown",
      "source": [
        "#Q 8. What is a lambda function in Python and when is it typically used?"
      ],
      "metadata": {
        "id": "VVWuwLLhC9oz"
      }
    },
    {
      "cell_type": "markdown",
      "source": [
        "A lambda function is a small, anonymous function defined using the lambda keyword. It is commonly used for short, throwaway functions where a full function definition is unnecessary."
      ],
      "metadata": {
        "id": "SlTNZijFDP6_"
      }
    },
    {
      "cell_type": "code",
      "source": [
        "# Example of a lambda function\n",
        "add = lambda x, y: x + y\n",
        "print(add(3, 2))  # Output: 5\n",
        "\n",
        "# Using lambda with filter\n",
        "numbers = [1, 2, 3, 4, 5]\n",
        "even_numbers = list(filter(lambda x: x % 2 == 0, numbers))\n",
        "print(even_numbers)  # Output: [2, 4]"
      ],
      "metadata": {
        "colab": {
          "base_uri": "https://localhost:8080/"
        },
        "id": "wCTN2D9WDTzw",
        "outputId": "5717137f-1ef4-42eb-f03d-54038658b24a"
      },
      "execution_count": 18,
      "outputs": [
        {
          "output_type": "stream",
          "name": "stdout",
          "text": [
            "5\n",
            "[2, 4]\n"
          ]
        }
      ]
    },
    {
      "cell_type": "markdown",
      "source": [
        "#Q 9. Explain the purpose and usage of the map() function in Python."
      ],
      "metadata": {
        "id": "nsTfxUP2DjbI"
      }
    },
    {
      "cell_type": "markdown",
      "source": [
        "map() applies a given function to all items in an input list (or other iterable) and returns an iterator that yields the results."
      ],
      "metadata": {
        "id": "st6BnBPoEG05"
      }
    },
    {
      "cell_type": "code",
      "source": [
        "# Using map to apply a function to each element\n",
        "numbers = [1, 2, 3, 4]\n",
        "squared_numbers = list(map(lambda x: x ** 2, numbers))\n",
        "print(squared_numbers)"
      ],
      "metadata": {
        "colab": {
          "base_uri": "https://localhost:8080/"
        },
        "id": "n94IZEw3EVGi",
        "outputId": "2f4ffa58-fc61-45fa-90f1-3dc0bdafa928"
      },
      "execution_count": 30,
      "outputs": [
        {
          "output_type": "stream",
          "name": "stdout",
          "text": [
            "[1, 4, 9, 16]\n"
          ]
        }
      ]
    },
    {
      "cell_type": "markdown",
      "source": [
        "#Q 10. What is the difference between map(), reduce(), and filter() functions in Python?"
      ],
      "metadata": {
        "id": "WFxtWnChEkKY"
      }
    },
    {
      "cell_type": "markdown",
      "source": [
        "map(): Applies a function to each item in an iterable and returns a map object.\n",
        "filter(): Filters elements from an iterable based on a condition.\n",
        "reduce(): Accumulates a result by applying a function to the elements of an iterable, using the result of the previous function application.\n"
      ],
      "metadata": {
        "id": "fs60FrPGEo_O"
      }
    },
    {
      "cell_type": "code",
      "source": [
        "from functools import reduce\n",
        "\n",
        "numbers = [1, 2, 3, 4, 5]\n",
        "\n",
        "# map: Square each number\n",
        "squared = list(map(lambda x: x ** 2, numbers))\n",
        "\n",
        "# filter: Get only even numbers\n",
        "evens = list(filter(lambda x: x % 2 == 0, numbers))\n",
        "\n",
        "# reduce: Sum all numbers\n",
        "total = reduce(lambda x, y: x + y, numbers)\n",
        "\n",
        "print(squared)\n",
        "print(evens)\n",
        "print(total)"
      ],
      "metadata": {
        "colab": {
          "base_uri": "https://localhost:8080/"
        },
        "id": "QUz6dkViEwec",
        "outputId": "1fb3f98f-1014-415e-a857-6df77a4eb75a"
      },
      "execution_count": 29,
      "outputs": [
        {
          "output_type": "stream",
          "name": "stdout",
          "text": [
            "[1, 4, 9, 16, 25]\n",
            "[2, 4]\n",
            "15\n"
          ]
        }
      ]
    },
    {
      "cell_type": "markdown",
      "source": [
        "##Practical Questions"
      ],
      "metadata": {
        "id": "WoCwR-tAFJip"
      }
    },
    {
      "cell_type": "markdown",
      "source": [
        "#Q 1. Write a Python function that takes a list of numbers as input and returns the sum of all even numbers in the list."
      ],
      "metadata": {
        "id": "yRSdEPpDFN9s"
      }
    },
    {
      "cell_type": "code",
      "source": [
        "def sum_even_numbers(numbers):\n",
        "    return sum(num for num in numbers if num % 2 == 0)\n",
        "numbers = [1, 2, 3, 4, 5, 6]\n",
        "print(sum_even_numbers(numbers))  # Output will be 12"
      ],
      "metadata": {
        "colab": {
          "base_uri": "https://localhost:8080/"
        },
        "id": "7UZnAGkTGKJm",
        "outputId": "5ff0bb61-1615-4f0e-97bc-96c32968cc36"
      },
      "execution_count": 23,
      "outputs": [
        {
          "output_type": "stream",
          "name": "stdout",
          "text": [
            "12\n"
          ]
        }
      ]
    },
    {
      "cell_type": "markdown",
      "source": [
        "#Q 2. Create a Python function that accepts a string and returns the reverse of that string."
      ],
      "metadata": {
        "id": "7Ql3UdfhGwee"
      }
    },
    {
      "cell_type": "code",
      "source": [
        "def reverse_string(s):\n",
        "    return s[::-1]\n",
        "result = reverse_string(\"sharmistha\")\n",
        "print(result)"
      ],
      "metadata": {
        "colab": {
          "base_uri": "https://localhost:8080/"
        },
        "id": "PhrFJcW4HYZ9",
        "outputId": "092ab463-4b07-4ccd-dcb8-4e3e7a64418d"
      },
      "execution_count": 25,
      "outputs": [
        {
          "output_type": "stream",
          "name": "stdout",
          "text": [
            "ahtsimrahs\n"
          ]
        }
      ]
    },
    {
      "cell_type": "markdown",
      "source": [
        "#Q 3. Implement a Python function that takes a list of integers and returns a new list containing the squares of each number."
      ],
      "metadata": {
        "id": "51ZnJQRzHfQF"
      }
    },
    {
      "cell_type": "code",
      "source": [
        "def square_numbers(numbers):\n",
        "    return [x**2 for x in numbers]\n",
        "numbers = [1, 2, 3, 4, 5]\n",
        "squared_numbers = square_numbers(numbers)\n",
        "print(squared_numbers)\n"
      ],
      "metadata": {
        "colab": {
          "base_uri": "https://localhost:8080/"
        },
        "id": "Xr9RjApVHkvJ",
        "outputId": "a1fd0ef6-464d-4ca8-b148-9e5514ffc2af"
      },
      "execution_count": 28,
      "outputs": [
        {
          "output_type": "stream",
          "name": "stdout",
          "text": [
            "[1, 4, 9, 16, 25]\n"
          ]
        }
      ]
    },
    {
      "cell_type": "markdown",
      "source": [
        "#Q 4. Write a Python function that checks if a given number is prime or not from 1 to 200."
      ],
      "metadata": {
        "id": "zqOlbAJgH-5V"
      }
    },
    {
      "cell_type": "code",
      "source": [
        "def is_prime(number):\n",
        "    if number < 2:\n",
        "        return False\n",
        "    for i in range(2, int(number**0.5) + 1):\n",
        "        if number % i == 0:\n",
        "            return False\n",
        "    return True\n",
        "\n",
        "# Check prime numbers from 1 to 200\n",
        "for num in range(1, 201):\n",
        "    if is_prime(num):\n",
        "        print(f\"{num} is a prime number\")"
      ],
      "metadata": {
        "colab": {
          "base_uri": "https://localhost:8080/"
        },
        "id": "grchNhThIDmE",
        "outputId": "2eb3adb9-bc02-45ff-8e91-8a546da71ce8"
      },
      "execution_count": 31,
      "outputs": [
        {
          "output_type": "stream",
          "name": "stdout",
          "text": [
            "2 is a prime number\n",
            "3 is a prime number\n",
            "5 is a prime number\n",
            "7 is a prime number\n",
            "11 is a prime number\n",
            "13 is a prime number\n",
            "17 is a prime number\n",
            "19 is a prime number\n",
            "23 is a prime number\n",
            "29 is a prime number\n",
            "31 is a prime number\n",
            "37 is a prime number\n",
            "41 is a prime number\n",
            "43 is a prime number\n",
            "47 is a prime number\n",
            "53 is a prime number\n",
            "59 is a prime number\n",
            "61 is a prime number\n",
            "67 is a prime number\n",
            "71 is a prime number\n",
            "73 is a prime number\n",
            "79 is a prime number\n",
            "83 is a prime number\n",
            "89 is a prime number\n",
            "97 is a prime number\n",
            "101 is a prime number\n",
            "103 is a prime number\n",
            "107 is a prime number\n",
            "109 is a prime number\n",
            "113 is a prime number\n",
            "127 is a prime number\n",
            "131 is a prime number\n",
            "137 is a prime number\n",
            "139 is a prime number\n",
            "149 is a prime number\n",
            "151 is a prime number\n",
            "157 is a prime number\n",
            "163 is a prime number\n",
            "167 is a prime number\n",
            "173 is a prime number\n",
            "179 is a prime number\n",
            "181 is a prime number\n",
            "191 is a prime number\n",
            "193 is a prime number\n",
            "197 is a prime number\n",
            "199 is a prime number\n"
          ]
        }
      ]
    },
    {
      "cell_type": "markdown",
      "source": [
        "#Q 5. Create an iterator class in Python that generates the Fibonacci sequence up to a specified number of terms."
      ],
      "metadata": {
        "id": "wI8QnNXLIPvr"
      }
    },
    {
      "cell_type": "code",
      "source": [
        "class Fibonacci:\n",
        "    def __init__(self, num_terms):\n",
        "        self.num_terms = num_terms\n",
        "        self.a, self.b = 0, 1\n",
        "        self.count = 0\n",
        "\n",
        "    def __iter__(self):\n",
        "        return self\n",
        "\n",
        "    def __next__(self):\n",
        "        if self.count >= self.num_terms:\n",
        "            raise StopIteration\n",
        "        fib = self.a\n",
        "        self.a, self.b = self.b, self.a + self.b\n",
        "        self.count += 1\n",
        "        return fib\n",
        "\n",
        "# Example usage\n",
        "num_terms = 10\n",
        "fib_sequence = Fibonacci(num_terms)\n",
        "for num in fib_sequence:\n",
        "    print(num)"
      ],
      "metadata": {
        "colab": {
          "base_uri": "https://localhost:8080/"
        },
        "id": "8sXymg7SIVEA",
        "outputId": "98515c88-a305-4423-e34c-7076a5cf3fab"
      },
      "execution_count": 32,
      "outputs": [
        {
          "output_type": "stream",
          "name": "stdout",
          "text": [
            "0\n",
            "1\n",
            "1\n",
            "2\n",
            "3\n",
            "5\n",
            "8\n",
            "13\n",
            "21\n",
            "34\n"
          ]
        }
      ]
    },
    {
      "cell_type": "markdown",
      "source": [
        "#Q 6. Write a generator function in Python that yields the powers of 2 up to a given exponent."
      ],
      "metadata": {
        "id": "sVvZxu9jIiVo"
      }
    },
    {
      "cell_type": "code",
      "source": [
        "def powers_of_two(n):\n",
        "    for i in range(n + 1):\n",
        "        yield 2 ** i\n",
        "for value in powers_of_two(5):\n",
        "    print(value)\n"
      ],
      "metadata": {
        "colab": {
          "base_uri": "https://localhost:8080/"
        },
        "id": "zP_H4ZqxIuaK",
        "outputId": "c3ef42a7-86d1-468d-d650-d1736783567f"
      },
      "execution_count": 33,
      "outputs": [
        {
          "output_type": "stream",
          "name": "stdout",
          "text": [
            "1\n",
            "2\n",
            "4\n",
            "8\n",
            "16\n",
            "32\n"
          ]
        }
      ]
    },
    {
      "cell_type": "markdown",
      "source": [
        "#Q 7. Implement a generator function that reads a file line by line and yields each line as a string."
      ],
      "metadata": {
        "id": "M8iIH7UXJKOg"
      }
    },
    {
      "cell_type": "code",
      "source": [
        "def read_file_line_by_line(file_path):\n",
        "    with open(file_path, 'r') as file:\n",
        "        for line in file:\n",
        "            yield line.strip()"
      ],
      "metadata": {
        "id": "EXIWGo-nJRHN"
      },
      "execution_count": 46,
      "outputs": []
    },
    {
      "cell_type": "code",
      "source": [
        "file_path = 'your_file.txt'  # Replace with your actual file path\n",
        "for line in read_file_line_by_line(file_path):\n",
        "    print(line)  # Or do something else with the line"
      ],
      "metadata": {
        "id": "zXUe7FdVKzTF"
      },
      "execution_count": null,
      "outputs": []
    },
    {
      "cell_type": "markdown",
      "source": [
        "#Q 8. Use a lambda function in Python to sort a list of tuples based on the second element of each tuple"
      ],
      "metadata": {
        "id": "bSNwbwjYK0Dj"
      }
    },
    {
      "cell_type": "code",
      "source": [
        "# List of tuples\n",
        "data = [(1, 'banana'), (3, 'apple'), (2, 'cherry')]\n",
        "\n",
        "# Sort the list of tuples based on the second element\n",
        "sorted_data = sorted(data, key=lambda x: x[1])\n",
        "\n",
        "print(sorted_data)"
      ],
      "metadata": {
        "colab": {
          "base_uri": "https://localhost:8080/"
        },
        "id": "8m0iD2g5LB7N",
        "outputId": "14da400a-caa3-4388-cc68-7498feddbcba"
      },
      "execution_count": 47,
      "outputs": [
        {
          "output_type": "stream",
          "name": "stdout",
          "text": [
            "[(3, 'apple'), (1, 'banana'), (2, 'cherry')]\n"
          ]
        }
      ]
    },
    {
      "cell_type": "markdown",
      "source": [
        "#Q 9. Write a Python program that uses 'map() to convert a list of temperatures from Celsius to Fahrenheit."
      ],
      "metadata": {
        "id": "iIbgbT0ILZJ6"
      }
    },
    {
      "cell_type": "code",
      "source": [
        "# List of temperatures in Celsius\n",
        "celsius_temps = [0, 20, 37, 100]\n",
        "\n",
        "# Function to convert Celsius to Fahrenheit\n",
        "def celsius_to_fahrenheit(celsius):\n",
        "    return (celsius * 9/5) + 32\n",
        "\n",
        "# Using map() to convert the list\n",
        "fahrenheit_temps = list(map(celsius_to_fahrenheit, celsius_temps))\n",
        "\n",
        "# Print the converted temperatures\n",
        "print(fahrenheit_temps)"
      ],
      "metadata": {
        "colab": {
          "base_uri": "https://localhost:8080/"
        },
        "id": "jWtJx-toLlag",
        "outputId": "d444975d-17d0-4fb5-c5c6-edfb9655ee6c"
      },
      "execution_count": 48,
      "outputs": [
        {
          "output_type": "stream",
          "name": "stdout",
          "text": [
            "[32.0, 68.0, 98.6, 212.0]\n"
          ]
        }
      ]
    },
    {
      "cell_type": "markdown",
      "source": [
        "#Q 10. Create a Python program that uses \"filter()\" to remove all the vowels from a given string."
      ],
      "metadata": {
        "id": "SCgbCV2oLtGB"
      }
    },
    {
      "cell_type": "code",
      "source": [
        "def remove_vowels(input_string):\n",
        "    vowels = \"aeiouAEIOU\"\n",
        "    # Using filter to remove vowels\n",
        "    filtered_string = ''.join(filter(lambda char: char not in vowels, input_string))\n",
        "    return filtered_string\n",
        "\n",
        "# Example usage\n",
        "input_string = \"Hello, World!\"\n",
        "result = remove_vowels(input_string)\n",
        "print(\"Original String:\", input_string)\n",
        "print(\"String without vowels:\", result)"
      ],
      "metadata": {
        "colab": {
          "base_uri": "https://localhost:8080/"
        },
        "id": "N4OOZ-TxLxuv",
        "outputId": "9759d286-1860-490d-e9b7-a5810414bf85"
      },
      "execution_count": 49,
      "outputs": [
        {
          "output_type": "stream",
          "name": "stdout",
          "text": [
            "Original String: Hello, World!\n",
            "String without vowels: Hll, Wrld!\n"
          ]
        }
      ]
    },
    {
      "cell_type": "markdown",
      "source": [
        "#Q 11. Imagine an accounting routine used in a book shop. It works on a list with sublists, which look like this:\n",
        "\n",
        "Order Number\n",
        "\n",
        "34587\n",
        "\n",
        "98762\n",
        "\n",
        "77226\n",
        "\n",
        "Book Title and Author\n",
        "\n",
        "Learning Python, Mark Lutz Programming Python, Mark Lutz\n",
        "\n",
        "Head First Python, Paul Barry\n",
        "\n",
        "Einführung in Python3, Bernd Klein\n",
        "\n",
        "Quantity\n",
        "\n",
        "4\n",
        "\n",
        "S\n",
        "\n",
        "3\n",
        "\n",
        "Price per Item\n",
        "\n",
        "40.95 56.80\n",
        "\n",
        "32.95\n",
        "\n",
        "24.99\n",
        "\n",
        "B8112\n",
        "\n",
        "Write a Python program, which returns a list with 2-tuples. Each tuple consists of the order number and the product of the price per item and the quantity. The product should be increased by 10,- C if the value of the order is smaller than 100,00 €.\n",
        "\n",
        "Write a Python program using lambda and map."
      ],
      "metadata": {
        "id": "YZJd4kDtL8ck"
      }
    },
    {
      "cell_type": "code",
      "source": [
        "# Data from the task\n",
        "orders = [\n",
        "    [34587, \"Learning Python, Mark Lutz\", 4, 40.95],\n",
        "    [98762, \"Programming Python, Mark Lutz\", 5, 56.80],\n",
        "    [77226, \"Head First Python, Paul Barry\", 3, 32.95],\n",
        "    [88112, \"Einführung in Python3, Bernd Klein\", 3, 24.99]\n",
        "]\n",
        "\n",
        "# Function to compute total and apply the 10€ rule if needed\n",
        "calculate_total = lambda order: (order[0], round(order[2] * order[3] + (10 if order[2] * order[3] < 100 else 0), 2))\n",
        "\n",
        "# Applying the lambda function using map\n",
        "result = list(map(calculate_total, orders))\n",
        "\n",
        "# Print the result\n",
        "print(result)"
      ],
      "metadata": {
        "colab": {
          "base_uri": "https://localhost:8080/"
        },
        "id": "JUaHQarrMHxA",
        "outputId": "304224a2-6b60-498f-9d37-b1bc8c641d7e"
      },
      "execution_count": 50,
      "outputs": [
        {
          "output_type": "stream",
          "name": "stdout",
          "text": [
            "[(34587, 163.8), (98762, 284.0), (77226, 108.85), (88112, 84.97)]\n"
          ]
        }
      ]
    }
  ]
}