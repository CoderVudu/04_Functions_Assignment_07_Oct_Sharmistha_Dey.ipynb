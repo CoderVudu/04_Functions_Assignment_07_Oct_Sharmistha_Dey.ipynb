{
  "nbformat": 4,
  "nbformat_minor": 0,
  "metadata": {
    "colab": {
      "provenance": [],
      "authorship_tag": "ABX9TyP5NVdQ8m0hgAj3Gyq/3jlo",
      "include_colab_link": true
    },
    "kernelspec": {
      "name": "python3",
      "display_name": "Python 3"
    },
    "language_info": {
      "name": "python"
    }
  },
  "cells": [
    {
      "cell_type": "markdown",
      "metadata": {
        "id": "view-in-github",
        "colab_type": "text"
      },
      "source": [
        "<a href=\"https://colab.research.google.com/github/CoderVudu/04_Functions_Assignment_07_Oct_Sharmistha_Dey.ipynb/blob/main/04_Functions_Assignment_07_Oct_Sharmistha_Dey.ipynb\" target=\"_parent\"><img src=\"https://colab.research.google.com/assets/colab-badge.svg\" alt=\"Open In Colab\"/></a>"
      ]
    },
    {
      "cell_type": "markdown",
      "source": [
        "##Theory Questions"
      ],
      "metadata": {
        "id": "iY_l0P63FPez"
      }
    },
    {
      "cell_type": "markdown",
      "source": [
        "#Q 1. What is the difference between a function and a method in Python?"
      ],
      "metadata": {
        "id": "njJMj85r6yDy"
      }
    },
    {
      "cell_type": "markdown",
      "source": [
        "A function is a block of code that is defined using the def keyword and can be called independently. It can take parameters and return values.\n",
        "A method is a function that is associated with an object, and it is called on the object (like a member function in other programming languages)."
      ],
      "metadata": {
        "id": "tfRclfbO7co3"
      }
    },
    {
      "cell_type": "code",
      "source": [
        "# Function example\n",
        "def greet(name):\n",
        "    return f\"Hello, {name}\"\n",
        "\n",
        "print(greet(\"Sharmistha\"))"
      ],
      "metadata": {
        "colab": {
          "base_uri": "https://localhost:8080/"
        },
        "id": "wTCsHpKJ7pb8",
        "outputId": "81f38680-c97d-4339-f181-a8c1d124c3f4"
      },
      "execution_count": 2,
      "outputs": [
        {
          "output_type": "stream",
          "name": "stdout",
          "text": [
            "Hello, Sharmistha\n"
          ]
        }
      ]
    },
    {
      "cell_type": "code",
      "source": [
        "# Method example\n",
        "class Person:\n",
        "    def greet(self, name):\n",
        "        return f\"Hello, {name}\"\n",
        "\n",
        "p = Person()\n",
        "print(p.greet(\"PWskills\"))"
      ],
      "metadata": {
        "colab": {
          "base_uri": "https://localhost:8080/"
        },
        "id": "YzRf6tHm8Cue",
        "outputId": "a6e30061-770f-4f3d-efd0-9bf5b39f9380"
      },
      "execution_count": 4,
      "outputs": [
        {
          "output_type": "stream",
          "name": "stdout",
          "text": [
            "Hello, PWskills\n"
          ]
        }
      ]
    },
    {
      "cell_type": "markdown",
      "source": [
        "#Q 2. Explain the concept of function arguments and parameters in Python."
      ],
      "metadata": {
        "id": "R7oFWZ0b8LEl"
      }
    },
    {
      "cell_type": "markdown",
      "source": [
        "Parameters are the variables listed in the function definition.\n",
        "Arguments are the actual values passed to the function when it is called."
      ],
      "metadata": {
        "id": "LKpl2EUC8TwD"
      }
    },
    {
      "cell_type": "code",
      "source": [
        "\n",
        "def add(a, b):  # 'a' and 'b' are parameters\n",
        "    return a + b\n",
        "\n",
        "result = add(10, 5)  # '10' and '5' are arguments\n",
        "print(result)"
      ],
      "metadata": {
        "colab": {
          "base_uri": "https://localhost:8080/"
        },
        "id": "ioakgnUG8fUT",
        "outputId": "c548abae-9b87-484f-8f25-3f377f574627"
      },
      "execution_count": 7,
      "outputs": [
        {
          "output_type": "stream",
          "name": "stdout",
          "text": [
            "15\n"
          ]
        }
      ]
    },
    {
      "cell_type": "markdown",
      "source": [
        "#Q 3. What are the different ways to define and call a function in Python?"
      ],
      "metadata": {
        "id": "tqDmQoRr8rI_"
      }
    },
    {
      "cell_type": "markdown",
      "source": [
        "Defining a function: One can define a function using the def keyword.\n"
      ],
      "metadata": {
        "id": "ZHkHDvvS8xXM"
      }
    },
    {
      "cell_type": "code",
      "source": [
        "def say_hello():\n",
        "    print(\"Hello, World!\")\n",
        "\n",
        "say_hello()"
      ],
      "metadata": {
        "colab": {
          "base_uri": "https://localhost:8080/"
        },
        "id": "rlTUtfMO86kV",
        "outputId": "98538fe1-e2e8-4b76-b6c7-d245edd16b88"
      },
      "execution_count": 8,
      "outputs": [
        {
          "output_type": "stream",
          "name": "stdout",
          "text": [
            "Hello, World!\n"
          ]
        }
      ]
    },
    {
      "cell_type": "markdown",
      "source": [
        "Lambda function: A lambda function is a small anonymous function."
      ],
      "metadata": {
        "id": "hKO35XV78_cI"
      }
    },
    {
      "cell_type": "code",
      "source": [
        "multiply = lambda x, y: x * y\n",
        "print(multiply(10, 5))"
      ],
      "metadata": {
        "colab": {
          "base_uri": "https://localhost:8080/"
        },
        "id": "IyJOBEn_9Eha",
        "outputId": "de851f48-d231-4e25-9c81-f63e821b6389"
      },
      "execution_count": 10,
      "outputs": [
        {
          "output_type": "stream",
          "name": "stdout",
          "text": [
            "50\n"
          ]
        }
      ]
    },
    {
      "cell_type": "markdown",
      "source": [
        "#Q 4. What is the purpose of the return statement in a Python function?"
      ],
      "metadata": {
        "id": "OWJziofL9M7w"
      }
    },
    {
      "cell_type": "markdown",
      "source": [
        "The return statement is used to exit the function and send back a value to the caller.\n"
      ],
      "metadata": {
        "id": "kRT0JrLI9SBi"
      }
    },
    {
      "cell_type": "code",
      "source": [
        "def square(x):\n",
        "    return x * x\n",
        "\n",
        "result = square(5)\n",
        "print(result)  # Output: 25"
      ],
      "metadata": {
        "colab": {
          "base_uri": "https://localhost:8080/"
        },
        "id": "KFAJoeWe9U2V",
        "outputId": "11b078a8-a6e9-4ddd-b9bd-14f497918a89"
      },
      "execution_count": 12,
      "outputs": [
        {
          "output_type": "stream",
          "name": "stdout",
          "text": [
            "25\n"
          ]
        }
      ]
    },
    {
      "cell_type": "markdown",
      "source": [
        "#Q 5. What are iterators in Python and how do they differ from iterables?"
      ],
      "metadata": {
        "id": "yV_0kTtH9bd1"
      }
    },
    {
      "cell_type": "markdown",
      "source": [
        "Iterable: An object is iterable if it can return an iterator (like a list, tuple, string, etc.). One can use iter() to get an iterator from an iterable.\n",
        "Iterator: An iterator is an object that keeps track of the current position and can be traversed one element at a time using next()."
      ],
      "metadata": {
        "id": "_YTcu9oX9iWy"
      }
    },
    {
      "cell_type": "code",
      "source": [
        "# Iterable\n",
        "my_list = [1, 2, 3]\n",
        "\n",
        "# Iterator\n",
        "it = iter(my_list)\n",
        "print(next(it))  # Output: 1\n",
        "print(next(it))  # Output: 2"
      ],
      "metadata": {
        "colab": {
          "base_uri": "https://localhost:8080/"
        },
        "id": "S_i8FH249nXY",
        "outputId": "8eef6ae2-861c-44ed-b306-d2d5919e0641"
      },
      "execution_count": 13,
      "outputs": [
        {
          "output_type": "stream",
          "name": "stdout",
          "text": [
            "1\n",
            "2\n"
          ]
        }
      ]
    },
    {
      "cell_type": "markdown",
      "source": [
        "#Q 6. Explain the concept of generators in Python and how they are defined."
      ],
      "metadata": {
        "id": "8K64RslACLtr"
      }
    },
    {
      "cell_type": "markdown",
      "source": [
        "A generator is a special type of iterator that is defined using the yield keyword. Instead of returning a value and terminating, it pauses and yields values one at a time.\n"
      ],
      "metadata": {
        "id": "o8xmKR3hCR-X"
      }
    },
    {
      "cell_type": "code",
      "source": [
        "def count_up_to(max):\n",
        "    count = 1\n",
        "    while count <= max:\n",
        "        yield count\n",
        "        count += 1\n",
        "\n",
        "gen = count_up_to(5)\n",
        "for num in gen:\n",
        "    print(num)"
      ],
      "metadata": {
        "colab": {
          "base_uri": "https://localhost:8080/"
        },
        "id": "wm-Gh9PfCV6y",
        "outputId": "e83889b3-7d30-4d17-a07b-3e1449212678"
      },
      "execution_count": 15,
      "outputs": [
        {
          "output_type": "stream",
          "name": "stdout",
          "text": [
            "1\n",
            "2\n",
            "3\n",
            "4\n",
            "5\n"
          ]
        }
      ]
    },
    {
      "cell_type": "markdown",
      "source": [
        "#Q 7. What are the advantages of using generators over regular functions?"
      ],
      "metadata": {
        "id": "sGtBEUwGCcki"
      }
    },
    {
      "cell_type": "markdown",
      "source": [
        "Generators are memory-efficient because they generate values lazily, one at a time, instead of computing and returning all results at once."
      ],
      "metadata": {
        "id": "7oiuuDGbChZj"
      }
    },
    {
      "cell_type": "code",
      "source": [
        "# Generator\n",
        "def count_up_to(max):\n",
        "    count = 1\n",
        "    while count <= max:\n",
        "        yield count\n",
        "        count += 1\n",
        "\n",
        "gen = count_up_to(5)\n",
        "for num in gen:\n",
        "    print(num)"
      ],
      "metadata": {
        "colab": {
          "base_uri": "https://localhost:8080/"
        },
        "id": "tSb0j60CCj_W",
        "outputId": "7515b4ec-007b-475c-b84d-1ec6500676a3"
      },
      "execution_count": 17,
      "outputs": [
        {
          "output_type": "stream",
          "name": "stdout",
          "text": [
            "1\n",
            "2\n",
            "3\n",
            "4\n",
            "5\n"
          ]
        }
      ]
    },
    {
      "cell_type": "markdown",
      "source": [
        "#Q 8. What is a lambda function in Python and when is it typically used?"
      ],
      "metadata": {
        "id": "VVWuwLLhC9oz"
      }
    },
    {
      "cell_type": "markdown",
      "source": [
        "A lambda function is a small, anonymous function defined using the lambda keyword. It is commonly used for short, throwaway functions where a full function definition is unnecessary."
      ],
      "metadata": {
        "id": "SlTNZijFDP6_"
      }
    },
    {
      "cell_type": "code",
      "source": [
        "# Example of a lambda function\n",
        "add = lambda x, y: x + y\n",
        "print(add(3, 2))  # Output: 5\n",
        "\n",
        "# Using lambda with filter\n",
        "numbers = [1, 2, 3, 4, 5]\n",
        "even_numbers = list(filter(lambda x: x % 2 == 0, numbers))\n",
        "print(even_numbers)  # Output: [2, 4]"
      ],
      "metadata": {
        "colab": {
          "base_uri": "https://localhost:8080/"
        },
        "id": "wCTN2D9WDTzw",
        "outputId": "5717137f-1ef4-42eb-f03d-54038658b24a"
      },
      "execution_count": 18,
      "outputs": [
        {
          "output_type": "stream",
          "name": "stdout",
          "text": [
            "5\n",
            "[2, 4]\n"
          ]
        }
      ]
    },
    {
      "cell_type": "markdown",
      "source": [
        "#Q 9. Explain the purpose and usage of the map() function in Python."
      ],
      "metadata": {
        "id": "nsTfxUP2DjbI"
      }
    },
    {
      "cell_type": "markdown",
      "source": [
        "map() applies a given function to all items in an input list (or other iterable) and returns an iterator that yields the results."
      ],
      "metadata": {
        "id": "st6BnBPoEG05"
      }
    },
    {
      "cell_type": "code",
      "source": [
        "# Using map to apply a function to each element\n",
        "numbers = [1, 2, 3, 4]\n",
        "squared_numbers = list(map(lambda x: x ** 2, numbers))\n",
        "print(squared_numbers)"
      ],
      "metadata": {
        "colab": {
          "base_uri": "https://localhost:8080/"
        },
        "id": "n94IZEw3EVGi",
        "outputId": "2f4ffa58-fc61-45fa-90f1-3dc0bdafa928"
      },
      "execution_count": 30,
      "outputs": [
        {
          "output_type": "stream",
          "name": "stdout",
          "text": [
            "[1, 4, 9, 16]\n"
          ]
        }
      ]
    },
    {
      "cell_type": "markdown",
      "source": [
        "#Q 10. What is the difference between map(), reduce(), and filter() functions in Python?"
      ],
      "metadata": {
        "id": "WFxtWnChEkKY"
      }
    },
    {
      "cell_type": "markdown",
      "source": [
        "map(): Applies a function to each item in an iterable and returns a map object.\n",
        "filter(): Filters elements from an iterable based on a condition.\n",
        "reduce(): Accumulates a result by applying a function to the elements of an iterable, using the result of the previous function application.\n"
      ],
      "metadata": {
        "id": "fs60FrPGEo_O"
      }
    },
    {
      "cell_type": "code",
      "source": [
        "from functools import reduce\n",
        "\n",
        "numbers = [1, 2, 3, 4, 5]\n",
        "\n",
        "# map: Square each number\n",
        "squared = list(map(lambda x: x ** 2, numbers))\n",
        "\n",
        "# filter: Get only even numbers\n",
        "evens = list(filter(lambda x: x % 2 == 0, numbers))\n",
        "\n",
        "# reduce: Sum all numbers\n",
        "total = reduce(lambda x, y: x + y, numbers)\n",
        "\n",
        "print(squared)\n",
        "print(evens)\n",
        "print(total)"
      ],
      "metadata": {
        "colab": {
          "base_uri": "https://localhost:8080/"
        },
        "id": "QUz6dkViEwec",
        "outputId": "1fb3f98f-1014-415e-a857-6df77a4eb75a"
      },
      "execution_count": 29,
      "outputs": [
        {
          "output_type": "stream",
          "name": "stdout",
          "text": [
            "[1, 4, 9, 16, 25]\n",
            "[2, 4]\n",
            "15\n"
          ]
        }
      ]
    },
    {
      "cell_type": "markdown",
      "source": [
        "Using pon & Paper write the internal mechanism for sum operation using reduce function on this given list: [47,11,42,13];"
      ],
      "metadata": {
        "id": "krXLjjANPTaP"
      }
    },
    {
      "cell_type": "markdown",
      "source": [
        "![WhatsApp Image 2024-10-20 at 7.42.08 PM.jpeg](data:image/jpeg;base64,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)"
      ],
      "metadata": {
        "id": "uZ4G4L63RjPh"
      }
    },
    {
      "cell_type": "markdown",
      "source": [
        "##Practical Questions"
      ],
      "metadata": {
        "id": "WoCwR-tAFJip"
      }
    },
    {
      "cell_type": "markdown",
      "source": [
        "#Q 1. Write a Python function that takes a list of numbers as input and returns the sum of all even numbers in the list."
      ],
      "metadata": {
        "id": "yRSdEPpDFN9s"
      }
    },
    {
      "cell_type": "code",
      "source": [
        "def sum_even_numbers(numbers):\n",
        "    return sum(num for num in numbers if num % 2 == 0)\n",
        "numbers = [1, 2, 3, 4, 5, 6]\n",
        "print(sum_even_numbers(numbers))  # Output will be 12"
      ],
      "metadata": {
        "colab": {
          "base_uri": "https://localhost:8080/"
        },
        "id": "7UZnAGkTGKJm",
        "outputId": "5ff0bb61-1615-4f0e-97bc-96c32968cc36"
      },
      "execution_count": 23,
      "outputs": [
        {
          "output_type": "stream",
          "name": "stdout",
          "text": [
            "12\n"
          ]
        }
      ]
    },
    {
      "cell_type": "markdown",
      "source": [
        "#Q 2. Create a Python function that accepts a string and returns the reverse of that string."
      ],
      "metadata": {
        "id": "7Ql3UdfhGwee"
      }
    },
    {
      "cell_type": "code",
      "source": [
        "def reverse_string(s):\n",
        "    return s[::-1]\n",
        "result = reverse_string(\"sharmistha\")\n",
        "print(result)"
      ],
      "metadata": {
        "colab": {
          "base_uri": "https://localhost:8080/"
        },
        "id": "PhrFJcW4HYZ9",
        "outputId": "092ab463-4b07-4ccd-dcb8-4e3e7a64418d"
      },
      "execution_count": 25,
      "outputs": [
        {
          "output_type": "stream",
          "name": "stdout",
          "text": [
            "ahtsimrahs\n"
          ]
        }
      ]
    },
    {
      "cell_type": "markdown",
      "source": [
        "#Q 3. Implement a Python function that takes a list of integers and returns a new list containing the squares of each number."
      ],
      "metadata": {
        "id": "51ZnJQRzHfQF"
      }
    },
    {
      "cell_type": "code",
      "source": [
        "def square_numbers(numbers):\n",
        "    return [x**2 for x in numbers]\n",
        "numbers = [1, 2, 3, 4, 5]\n",
        "squared_numbers = square_numbers(numbers)\n",
        "print(squared_numbers)\n"
      ],
      "metadata": {
        "colab": {
          "base_uri": "https://localhost:8080/"
        },
        "id": "Xr9RjApVHkvJ",
        "outputId": "a1fd0ef6-464d-4ca8-b148-9e5514ffc2af"
      },
      "execution_count": 28,
      "outputs": [
        {
          "output_type": "stream",
          "name": "stdout",
          "text": [
            "[1, 4, 9, 16, 25]\n"
          ]
        }
      ]
    },
    {
      "cell_type": "markdown",
      "source": [
        "#Q 4. Write a Python function that checks if a given number is prime or not from 1 to 200."
      ],
      "metadata": {
        "id": "zqOlbAJgH-5V"
      }
    },
    {
      "cell_type": "code",
      "source": [
        "def is_prime(number):\n",
        "    if number < 2:\n",
        "        return False\n",
        "    for i in range(2, int(number**0.5) + 1):\n",
        "        if number % i == 0:\n",
        "            return False\n",
        "    return True\n",
        "\n",
        "# Check prime numbers from 1 to 200\n",
        "for num in range(1, 201):\n",
        "    if is_prime(num):\n",
        "        print(f\"{num} is a prime number\")"
      ],
      "metadata": {
        "colab": {
          "base_uri": "https://localhost:8080/"
        },
        "id": "grchNhThIDmE",
        "outputId": "2eb3adb9-bc02-45ff-8e91-8a546da71ce8"
      },
      "execution_count": 31,
      "outputs": [
        {
          "output_type": "stream",
          "name": "stdout",
          "text": [
            "2 is a prime number\n",
            "3 is a prime number\n",
            "5 is a prime number\n",
            "7 is a prime number\n",
            "11 is a prime number\n",
            "13 is a prime number\n",
            "17 is a prime number\n",
            "19 is a prime number\n",
            "23 is a prime number\n",
            "29 is a prime number\n",
            "31 is a prime number\n",
            "37 is a prime number\n",
            "41 is a prime number\n",
            "43 is a prime number\n",
            "47 is a prime number\n",
            "53 is a prime number\n",
            "59 is a prime number\n",
            "61 is a prime number\n",
            "67 is a prime number\n",
            "71 is a prime number\n",
            "73 is a prime number\n",
            "79 is a prime number\n",
            "83 is a prime number\n",
            "89 is a prime number\n",
            "97 is a prime number\n",
            "101 is a prime number\n",
            "103 is a prime number\n",
            "107 is a prime number\n",
            "109 is a prime number\n",
            "113 is a prime number\n",
            "127 is a prime number\n",
            "131 is a prime number\n",
            "137 is a prime number\n",
            "139 is a prime number\n",
            "149 is a prime number\n",
            "151 is a prime number\n",
            "157 is a prime number\n",
            "163 is a prime number\n",
            "167 is a prime number\n",
            "173 is a prime number\n",
            "179 is a prime number\n",
            "181 is a prime number\n",
            "191 is a prime number\n",
            "193 is a prime number\n",
            "197 is a prime number\n",
            "199 is a prime number\n"
          ]
        }
      ]
    },
    {
      "cell_type": "markdown",
      "source": [
        "#Q 5. Create an iterator class in Python that generates the Fibonacci sequence up to a specified number of terms."
      ],
      "metadata": {
        "id": "wI8QnNXLIPvr"
      }
    },
    {
      "cell_type": "code",
      "source": [
        "class Fibonacci:\n",
        "    def __init__(self, num_terms):\n",
        "        self.num_terms = num_terms\n",
        "        self.a, self.b = 0, 1\n",
        "        self.count = 0\n",
        "\n",
        "    def __iter__(self):\n",
        "        return self\n",
        "\n",
        "    def __next__(self):\n",
        "        if self.count >= self.num_terms:\n",
        "            raise StopIteration\n",
        "        fib = self.a\n",
        "        self.a, self.b = self.b, self.a + self.b\n",
        "        self.count += 1\n",
        "        return fib\n",
        "\n",
        "# Example usage\n",
        "num_terms = 10\n",
        "fib_sequence = Fibonacci(num_terms)\n",
        "for num in fib_sequence:\n",
        "    print(num)"
      ],
      "metadata": {
        "colab": {
          "base_uri": "https://localhost:8080/"
        },
        "id": "8sXymg7SIVEA",
        "outputId": "98515c88-a305-4423-e34c-7076a5cf3fab"
      },
      "execution_count": 32,
      "outputs": [
        {
          "output_type": "stream",
          "name": "stdout",
          "text": [
            "0\n",
            "1\n",
            "1\n",
            "2\n",
            "3\n",
            "5\n",
            "8\n",
            "13\n",
            "21\n",
            "34\n"
          ]
        }
      ]
    },
    {
      "cell_type": "markdown",
      "source": [
        "#Q 6. Write a generator function in Python that yields the powers of 2 up to a given exponent."
      ],
      "metadata": {
        "id": "sVvZxu9jIiVo"
      }
    },
    {
      "cell_type": "code",
      "source": [
        "def powers_of_two(n):\n",
        "    for i in range(n + 1):\n",
        "        yield 2 ** i\n",
        "for value in powers_of_two(5):\n",
        "    print(value)\n"
      ],
      "metadata": {
        "colab": {
          "base_uri": "https://localhost:8080/"
        },
        "id": "zP_H4ZqxIuaK",
        "outputId": "c3ef42a7-86d1-468d-d650-d1736783567f"
      },
      "execution_count": 33,
      "outputs": [
        {
          "output_type": "stream",
          "name": "stdout",
          "text": [
            "1\n",
            "2\n",
            "4\n",
            "8\n",
            "16\n",
            "32\n"
          ]
        }
      ]
    },
    {
      "cell_type": "markdown",
      "source": [
        "#Q 7. Implement a generator function that reads a file line by line and yields each line as a string."
      ],
      "metadata": {
        "id": "M8iIH7UXJKOg"
      }
    },
    {
      "cell_type": "code",
      "source": [
        "def read_file_line_by_line(file_path):\n",
        "    with open(file_path, 'r') as file:\n",
        "        for line in file:\n",
        "            yield line.strip()"
      ],
      "metadata": {
        "id": "EXIWGo-nJRHN"
      },
      "execution_count": 46,
      "outputs": []
    },
    {
      "cell_type": "code",
      "source": [
        "file_path = 'your_file.txt'  # Replace with your actual file path\n",
        "for line in read_file_line_by_line(file_path):\n",
        "    print(line)  # Or do something else with the line"
      ],
      "metadata": {
        "id": "zXUe7FdVKzTF"
      },
      "execution_count": null,
      "outputs": []
    },
    {
      "cell_type": "markdown",
      "source": [
        "#Q 8. Use a lambda function in Python to sort a list of tuples based on the second element of each tuple"
      ],
      "metadata": {
        "id": "bSNwbwjYK0Dj"
      }
    },
    {
      "cell_type": "code",
      "source": [
        "# List of tuples\n",
        "data = [(1, 'banana'), (3, 'apple'), (2, 'cherry')]\n",
        "\n",
        "# Sort the list of tuples based on the second element\n",
        "sorted_data = sorted(data, key=lambda x: x[1])\n",
        "\n",
        "print(sorted_data)"
      ],
      "metadata": {
        "colab": {
          "base_uri": "https://localhost:8080/"
        },
        "id": "8m0iD2g5LB7N",
        "outputId": "14da400a-caa3-4388-cc68-7498feddbcba"
      },
      "execution_count": 47,
      "outputs": [
        {
          "output_type": "stream",
          "name": "stdout",
          "text": [
            "[(3, 'apple'), (1, 'banana'), (2, 'cherry')]\n"
          ]
        }
      ]
    },
    {
      "cell_type": "markdown",
      "source": [
        "#Q 9. Write a Python program that uses 'map() to convert a list of temperatures from Celsius to Fahrenheit."
      ],
      "metadata": {
        "id": "iIbgbT0ILZJ6"
      }
    },
    {
      "cell_type": "code",
      "source": [
        "# List of temperatures in Celsius\n",
        "celsius_temps = [0, 20, 37, 100]\n",
        "\n",
        "# Function to convert Celsius to Fahrenheit\n",
        "def celsius_to_fahrenheit(celsius):\n",
        "    return (celsius * 9/5) + 32\n",
        "\n",
        "# Using map() to convert the list\n",
        "fahrenheit_temps = list(map(celsius_to_fahrenheit, celsius_temps))\n",
        "\n",
        "# Print the converted temperatures\n",
        "print(fahrenheit_temps)"
      ],
      "metadata": {
        "colab": {
          "base_uri": "https://localhost:8080/"
        },
        "id": "jWtJx-toLlag",
        "outputId": "d444975d-17d0-4fb5-c5c6-edfb9655ee6c"
      },
      "execution_count": 48,
      "outputs": [
        {
          "output_type": "stream",
          "name": "stdout",
          "text": [
            "[32.0, 68.0, 98.6, 212.0]\n"
          ]
        }
      ]
    },
    {
      "cell_type": "markdown",
      "source": [
        "#Q 10. Create a Python program that uses \"filter()\" to remove all the vowels from a given string."
      ],
      "metadata": {
        "id": "SCgbCV2oLtGB"
      }
    },
    {
      "cell_type": "code",
      "source": [
        "def remove_vowels(input_string):\n",
        "    vowels = \"aeiouAEIOU\"\n",
        "    # Using filter to remove vowels\n",
        "    filtered_string = ''.join(filter(lambda char: char not in vowels, input_string))\n",
        "    return filtered_string\n",
        "\n",
        "# Example usage\n",
        "input_string = \"Hello, World!\"\n",
        "result = remove_vowels(input_string)\n",
        "print(\"Original String:\", input_string)\n",
        "print(\"String without vowels:\", result)"
      ],
      "metadata": {
        "colab": {
          "base_uri": "https://localhost:8080/"
        },
        "id": "N4OOZ-TxLxuv",
        "outputId": "9759d286-1860-490d-e9b7-a5810414bf85"
      },
      "execution_count": 49,
      "outputs": [
        {
          "output_type": "stream",
          "name": "stdout",
          "text": [
            "Original String: Hello, World!\n",
            "String without vowels: Hll, Wrld!\n"
          ]
        }
      ]
    },
    {
      "cell_type": "markdown",
      "source": [
        "#Q 11. Imagine an accounting routine used in a book shop. It works on a list with sublists, which look like this:\n",
        "\n",
        "Order Number\n",
        "\n",
        "34587\n",
        "\n",
        "98762\n",
        "\n",
        "77226\n",
        "\n",
        "Book Title and Author\n",
        "\n",
        "Learning Python, Mark Lutz Programming Python, Mark Lutz\n",
        "\n",
        "Head First Python, Paul Barry\n",
        "\n",
        "Einführung in Python3, Bernd Klein\n",
        "\n",
        "Quantity\n",
        "\n",
        "4\n",
        "\n",
        "S\n",
        "\n",
        "3\n",
        "\n",
        "Price per Item\n",
        "\n",
        "40.95 56.80\n",
        "\n",
        "32.95\n",
        "\n",
        "24.99\n",
        "\n",
        "B8112\n",
        "\n",
        "Write a Python program, which returns a list with 2-tuples. Each tuple consists of the order number and the product of the price per item and the quantity. The product should be increased by 10,- C if the value of the order is smaller than 100,00 €.\n",
        "\n",
        "Write a Python program using lambda and map."
      ],
      "metadata": {
        "id": "YZJd4kDtL8ck"
      }
    },
    {
      "cell_type": "code",
      "source": [
        "# Data from the task\n",
        "orders = [\n",
        "    [34587, \"Learning Python, Mark Lutz\", 4, 40.95],\n",
        "    [98762, \"Programming Python, Mark Lutz\", 5, 56.80],\n",
        "    [77226, \"Head First Python, Paul Barry\", 3, 32.95],\n",
        "    [88112, \"Einführung in Python3, Bernd Klein\", 3, 24.99]\n",
        "]\n",
        "\n",
        "# Function to compute total and apply the 10€ rule if needed\n",
        "calculate_total = lambda order: (order[0], round(order[2] * order[3] + (10 if order[2] * order[3] < 100 else 0), 2))\n",
        "\n",
        "# Applying the lambda function using map\n",
        "result = list(map(calculate_total, orders))\n",
        "\n",
        "# Print the result\n",
        "print(result)"
      ],
      "metadata": {
        "colab": {
          "base_uri": "https://localhost:8080/"
        },
        "id": "JUaHQarrMHxA",
        "outputId": "304224a2-6b60-498f-9d37-b1bc8c641d7e"
      },
      "execution_count": 50,
      "outputs": [
        {
          "output_type": "stream",
          "name": "stdout",
          "text": [
            "[(34587, 163.8), (98762, 284.0), (77226, 108.85), (88112, 84.97)]\n"
          ]
        }
      ]
    }
  ]
}